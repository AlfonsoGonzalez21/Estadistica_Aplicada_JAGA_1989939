{
 "cells": [
  {
   "cell_type": "markdown",
   "id": "16bd9f95-62d5-4e24-a587-790bd5fcb519",
   "metadata": {},
   "source": [
    "# Actividad 1 #\n",
    "**Jose Alfonso Gonzalez Acosta**\n",
    "- Matricula: 1989939\n",
    "- Materia: Estadistica Aplicada\n",
    "- Grupo: 043"
   ]
  },
  {
   "cell_type": "markdown",
   "id": "ebec47fe-c3b2-449e-821a-8acc1b6ab40a",
   "metadata": {},
   "source": [
    "1. Crear una lista con los nombres de pila de los integrantes de tu familia, la lista se llamará mi_familia"
   ]
  },
  {
   "cell_type": "code",
   "execution_count": 36,
   "id": "cb6fcf89-c2ee-4ae0-b247-cad28a729a4e",
   "metadata": {},
   "outputs": [],
   "source": [
    "#respuesta\n",
    "mi_familia1 = [\"Leopoldo\", \"Xiomara\"]\n",
    "mi_familia2 = [\"Alfonso\", \"Claudia\", \"Camila\"]"
   ]
  },
  {
   "cell_type": "markdown",
   "id": "e63dd508-b63f-4263-90f2-c2702c5b9da2",
   "metadata": {},
   "source": [
    "2. Crea una variable float que se llame mi_edad con tu edad\n",
    "Nota: las variables float contienen decimales"
   ]
  },
  {
   "cell_type": "code",
   "execution_count": 25,
   "id": "15622455-22a1-4370-831d-f0bcd0891135",
   "metadata": {},
   "outputs": [],
   "source": [
    "#respuesta\n",
    "mi_edad1 = 21\n",
    "mi_edad2 = 21"
   ]
  },
  {
   "cell_type": "code",
   "execution_count": 26,
   "id": "df261f7b-f3e3-488c-af94-c4f9182b8513",
   "metadata": {},
   "outputs": [
    {
     "data": {
      "text/plain": [
       "int"
      ]
     },
     "execution_count": 26,
     "metadata": {},
     "output_type": "execute_result"
    }
   ],
   "source": [
    "#al ejecutar el comando de abajo debe resultar float\n",
    "type(mi_edad1)\n",
    "type(mi_edad2)"
   ]
  },
  {
   "cell_type": "code",
   "execution_count": 35,
   "id": "4cd6afc9-6da0-4717-937b-0f4aa125fa7e",
   "metadata": {},
   "outputs": [
    {
     "name": "stdout",
     "output_type": "stream",
     "text": [
      "21.0 21.0\n"
     ]
    }
   ],
   "source": [
    "mi_edad1 = float(mi_edad1)\n",
    "mi_edad2 = float(mi_edad2)\n",
    "print(mi_edad1, mi_edad2)"
   ]
  },
  {
   "cell_type": "markdown",
   "id": "3b8bb3db-d15a-4c33-b767-9a84833c334a",
   "metadata": {},
   "source": [
    "3. Convierte la variable mi_edad a entero (int) y guardalo en mi_edad"
   ]
  },
  {
   "cell_type": "code",
   "execution_count": 31,
   "id": "5213ea80-7bae-4aa3-863c-63284efdd3da",
   "metadata": {},
   "outputs": [],
   "source": [
    "mi_edad1 = int(mi_edad1)\n",
    "mi_edad2 = int(mi_edad2)"
   ]
  },
  {
   "cell_type": "code",
   "execution_count": 32,
   "id": "bb47c3f9-c62b-4dbd-9038-78aeed6dc61d",
   "metadata": {
    "tags": []
   },
   "outputs": [
    {
     "data": {
      "text/plain": [
       "int"
      ]
     },
     "execution_count": 32,
     "metadata": {},
     "output_type": "execute_result"
    }
   ],
   "source": [
    "type(mi_edad1)"
   ]
  },
  {
   "cell_type": "code",
   "execution_count": 33,
   "id": "79e53072-a0ec-413b-8155-c9a49b15a1f8",
   "metadata": {},
   "outputs": [
    {
     "data": {
      "text/plain": [
       "int"
      ]
     },
     "execution_count": 33,
     "metadata": {},
     "output_type": "execute_result"
    }
   ],
   "source": [
    "type(mi_edad2)"
   ]
  },
  {
   "cell_type": "code",
   "execution_count": 37,
   "id": "5d00b745-d72f-48ad-90d1-25d20a038f02",
   "metadata": {
    "tags": []
   },
   "outputs": [
    {
     "data": {
      "text/plain": [
       "2"
      ]
     },
     "execution_count": 37,
     "metadata": {},
     "output_type": "execute_result"
    }
   ],
   "source": [
    "len(mi_familia1)"
   ]
  },
  {
   "cell_type": "code",
   "execution_count": 38,
   "id": "75651f95-2cb7-4726-97ad-2a303b236ee7",
   "metadata": {},
   "outputs": [
    {
     "data": {
      "text/plain": [
       "3"
      ]
     },
     "execution_count": 38,
     "metadata": {},
     "output_type": "execute_result"
    }
   ],
   "source": [
    "len(mi_familia2)"
   ]
  },
  {
   "cell_type": "code",
   "execution_count": 18,
   "id": "678866f0-efdb-4b4e-978a-7cba77d6cf22",
   "metadata": {},
   "outputs": [
    {
     "name": "stdout",
     "output_type": "stream",
     "text": [
      "Yo tengo  21  años\n"
     ]
    }
   ],
   "source": [
    "print(\"Yo tengo \", mi_edad1, \" años\")"
   ]
  },
  {
   "cell_type": "code",
   "execution_count": 19,
   "id": "9674a0a4-dff4-4539-86d9-8d065b010a42",
   "metadata": {},
   "outputs": [
    {
     "name": "stdout",
     "output_type": "stream",
     "text": [
      "Yo tengo  21  años\n"
     ]
    }
   ],
   "source": [
    "print(\"Yo tengo \", mi_edad2, \" años\")"
   ]
  },
  {
   "cell_type": "code",
   "execution_count": 39,
   "id": "b68aa389-3050-4b94-9772-c7ccd412056d",
   "metadata": {},
   "outputs": [
    {
     "name": "stdout",
     "output_type": "stream",
     "text": [
      "Yo tengo 2 integrantes de familia\n"
     ]
    }
   ],
   "source": [
    "print(f\"Yo tengo {len(mi_familia1)} integrantes de familia\")"
   ]
  },
  {
   "cell_type": "code",
   "execution_count": 40,
   "id": "0fcefe59-88bb-4c4b-8659-63c07d72ab13",
   "metadata": {},
   "outputs": [
    {
     "name": "stdout",
     "output_type": "stream",
     "text": [
      "Yo tengo 3 integrantes de familia\n"
     ]
    }
   ],
   "source": [
    "print(f\"Yo tengo {len(mi_familia2)} integrantes de familia\")"
   ]
  },
  {
   "cell_type": "code",
   "execution_count": 41,
   "id": "5cc74502-f14a-400c-9beb-c2669fd489a8",
   "metadata": {},
   "outputs": [
    {
     "name": "stdout",
     "output_type": "stream",
     "text": [
      "tengo mas de 20 años\n"
     ]
    }
   ],
   "source": [
    "if mi_edad1 > 20:\n",
    "    print(\"tengo mas de 20 años\")\n",
    "else:\n",
    "    print(\"tengo menos de 20 años\")"
   ]
  },
  {
   "cell_type": "code",
   "execution_count": 42,
   "id": "216b97ff-3f54-435e-b1ce-30e1503886c2",
   "metadata": {},
   "outputs": [
    {
     "name": "stdout",
     "output_type": "stream",
     "text": [
      "tengo mas de 20 años\n"
     ]
    }
   ],
   "source": [
    "if mi_edad2 > 20:\n",
    "    print(\"tengo mas de 20 años\")\n",
    "else:\n",
    "    print(\"tengo menos de 20 años\")\n",
    "    \n",
    "    Actividad1_JJEG_18799456566_EAG43_ene2023"
   ]
  }
 ],
 "metadata": {
  "kernelspec": {
   "display_name": "Python 3 (ipykernel)",
   "language": "python",
   "name": "python3"
  },
  "language_info": {
   "codemirror_mode": {
    "name": "ipython",
    "version": 3
   },
   "file_extension": ".py",
   "mimetype": "text/x-python",
   "name": "python",
   "nbconvert_exporter": "python",
   "pygments_lexer": "ipython3",
   "version": "3.9.12"
  }
 },
 "nbformat": 4,
 "nbformat_minor": 5
}
