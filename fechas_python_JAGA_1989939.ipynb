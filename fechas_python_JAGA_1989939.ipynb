{
 "cells": [
  {
   "cell_type": "markdown",
   "id": "c4a418a6-6a58-4a61-b84d-5745c9c74422",
   "metadata": {},
   "source": [
    "# Variables de Tipo Fecha/Tiempo en Python\n",
    "## Estadistica Aplicada\n",
    "### Jose Alfonso Gonzalez Acosta - 1989939\n",
    "\n",
    "**Sesión 15 - 30 de marzo de 2023**"
   ]
  },
  {
   "cell_type": "markdown",
   "id": "5f418dd5-b096-4ba4-a2db-2a8d672a4d9a",
   "metadata": {},
   "source": [
    "### fechas en datetime"
   ]
  },
  {
   "cell_type": "code",
   "execution_count": 1,
   "id": "478cee49-ee2a-414f-96b7-db22fb94d994",
   "metadata": {},
   "outputs": [],
   "source": [
    "# Importamos datetime\n",
    "from datetime import datetime"
   ]
  },
  {
   "cell_type": "code",
   "execution_count": 2,
   "id": "e1ce00d3-56bb-43c9-abb9-65a159fd0f5a",
   "metadata": {},
   "outputs": [],
   "source": [
    "#fecha hoy\n",
    "mi_year = 2023\n",
    "mi_mes = 3\n",
    "mi_dia = 30\n",
    "mi_hora = 15\n",
    "mi_minuto = 25\n",
    "mi_segundo = 30"
   ]
  },
  {
   "cell_type": "code",
   "execution_count": 3,
   "id": "83fb713c-d774-425c-a9da-0fa59fa136bd",
   "metadata": {},
   "outputs": [],
   "source": [
    "# formato fecha año mes dia\n",
    "mi_fecha=datetime(mi_year,mi_mes,mi_dia)"
   ]
  },
  {
   "cell_type": "code",
   "execution_count": 4,
   "id": "4af968d1-6232-4b9f-bfb2-87bcd7c797d6",
   "metadata": {},
   "outputs": [
    {
     "data": {
      "text/plain": [
       "datetime.datetime(2023, 3, 30, 0, 0)"
      ]
     },
     "execution_count": 4,
     "metadata": {},
     "output_type": "execute_result"
    }
   ],
   "source": [
    "mi_fecha"
   ]
  },
  {
   "cell_type": "code",
   "execution_count": 5,
   "id": "afd3c208-513f-4454-a112-b65b5ae38169",
   "metadata": {},
   "outputs": [],
   "source": [
    "mi_fecha_hora = datetime(mi_year,mi_mes,mi_dia,mi_hora,mi_minuto,mi_segundo)"
   ]
  },
  {
   "cell_type": "code",
   "execution_count": 6,
   "id": "21e4aa98-8c31-4280-a119-c4077eeb4b4c",
   "metadata": {},
   "outputs": [
    {
     "data": {
      "text/plain": [
       "datetime.datetime(2023, 3, 30, 15, 25, 30)"
      ]
     },
     "execution_count": 6,
     "metadata": {},
     "output_type": "execute_result"
    }
   ],
   "source": [
    "mi_fecha_hora"
   ]
  },
  {
   "cell_type": "markdown",
   "id": "4f297e6f-d458-4327-b91f-9b6b46f1ee74",
   "metadata": {},
   "source": [
    "Una vez que una variable de tipo fecha podemos acceder a sus componentes"
   ]
  },
  {
   "cell_type": "code",
   "execution_count": 8,
   "id": "341c6d26-9700-4e32-ad18-e7b6d2dd663c",
   "metadata": {},
   "outputs": [
    {
     "data": {
      "text/plain": [
       "3"
      ]
     },
     "execution_count": 8,
     "metadata": {},
     "output_type": "execute_result"
    }
   ],
   "source": [
    "## accedemos al año de mi_fecha_hora\n",
    "mi_fecha_hora.month"
   ]
  },
  {
   "cell_type": "code",
   "execution_count": 9,
   "id": "2243c9f9-06cd-4668-adc2-6e409b0db7fe",
   "metadata": {},
   "outputs": [
    {
     "data": {
      "text/plain": [
       "25"
      ]
     },
     "execution_count": 9,
     "metadata": {},
     "output_type": "execute_result"
    }
   ],
   "source": [
    "# accedemos al minuto de mi_fecha_hora\n",
    "mi_fecha_hora.minute"
   ]
  },
  {
   "cell_type": "markdown",
   "id": "c9d60fdc-318c-49ea-a0ff-735b5e077acb",
   "metadata": {},
   "source": [
    "### fechas en numpy"
   ]
  },
  {
   "cell_type": "code",
   "execution_count": 10,
   "id": "70f6947a-0b0b-4e7f-a067-a77bbd9d988a",
   "metadata": {},
   "outputs": [],
   "source": [
    "import numpy as np"
   ]
  },
  {
   "cell_type": "code",
   "execution_count": 11,
   "id": "bf687435-73bf-422a-bec9-811e784cf117",
   "metadata": {},
   "outputs": [
    {
     "data": {
      "text/plain": [
       "array(['2002-01-15', '2001-06-06'], dtype='datetime64[D]')"
      ]
     },
     "execution_count": 11,
     "metadata": {},
     "output_type": "execute_result"
    }
   ],
   "source": [
    "np.array (['2002-01-15','2001-06-06'],dtype='datetime64')"
   ]
  },
  {
   "cell_type": "code",
   "execution_count": 12,
   "id": "9e0a2344-e72a-4a42-87c1-7caa96390db8",
   "metadata": {},
   "outputs": [
    {
     "data": {
      "text/plain": [
       "array(['2002-01-15T00', '2001-06-06T00'], dtype='datetime64[h]')"
      ]
     },
     "execution_count": 12,
     "metadata": {},
     "output_type": "execute_result"
    }
   ],
   "source": [
    "# reconoce la hora con el h en el datetime64[h]\n",
    "np.array (['2002-01-15','2001-06-06'],dtype='datetime64[h]')"
   ]
  },
  {
   "cell_type": "code",
   "execution_count": 13,
   "id": "17e2db83-e7b5-4d8b-bcfd-43b726f5d055",
   "metadata": {},
   "outputs": [
    {
     "data": {
      "text/plain": [
       "array(['2002', '2001'], dtype='datetime64[Y]')"
      ]
     },
     "execution_count": 13,
     "metadata": {},
     "output_type": "execute_result"
    }
   ],
   "source": [
    "# reconoce el año \n",
    "np.array (['2002-01-15','2001-06-06'],dtype='datetime64[Y]')"
   ]
  },
  {
   "cell_type": "code",
   "execution_count": 14,
   "id": "84a2f4c2-c529-4315-adaf-4af48cec7dad",
   "metadata": {},
   "outputs": [
    {
     "data": {
      "text/plain": [
       "array(['2002-01', '2001-06'], dtype='datetime64[M]')"
      ]
     },
     "execution_count": 14,
     "metadata": {},
     "output_type": "execute_result"
    }
   ],
   "source": [
    "#reconoce por mes\n",
    "np.array (['2002-01-15','2001-06-06'],dtype='datetime64[M]')"
   ]
  },
  {
   "cell_type": "code",
   "execution_count": 15,
   "id": "f0c86485-073f-483a-9550-185bddca264d",
   "metadata": {},
   "outputs": [
    {
     "data": {
      "text/plain": [
       "array(['2001', '2002', '2003', '2004', '2005', '2006', '2007', '2008',\n",
       "       '2009', '2010', '2011', '2012', '2013', '2014', '2015', '2016',\n",
       "       '2017', '2018', '2019', '2020', '2021', '2022'],\n",
       "      dtype='datetime64[Y]')"
      ]
     },
     "execution_count": 15,
     "metadata": {},
     "output_type": "execute_result"
    }
   ],
   "source": [
    "#vamos a contar los años hasta el dia de hoy\n",
    "np.arange('2001-06-06','2023-03-30',1,dtype='datetime64[Y]')"
   ]
  },
  {
   "cell_type": "code",
   "execution_count": 16,
   "id": "26fbaa52-46e4-42d1-89f3-b05188afac85",
   "metadata": {},
   "outputs": [
    {
     "data": {
      "text/plain": [
       "array(['2023-01-23', '2023-01-30', '2023-02-06', '2023-02-13',\n",
       "       '2023-02-20', '2023-02-27', '2023-03-06', '2023-03-13',\n",
       "       '2023-03-20', '2023-03-27'], dtype='datetime64[D]')"
      ]
     },
     "execution_count": 16,
     "metadata": {},
     "output_type": "execute_result"
    }
   ],
   "source": [
    "np.arange('2023-01-23','2023-03-30',7,dtype='datetime64[D]')"
   ]
  },
  {
   "cell_type": "code",
   "execution_count": 17,
   "id": "15b9f7f0-aca6-4584-ae89-f2c1f7699523",
   "metadata": {},
   "outputs": [],
   "source": [
    "### fechas en pandas"
   ]
  },
  {
   "cell_type": "code",
   "execution_count": 18,
   "id": "04885997-4e49-41a0-a01f-6e8fda3cd7e7",
   "metadata": {},
   "outputs": [],
   "source": [
    "import pandas as pd"
   ]
  },
  {
   "cell_type": "code",
   "execution_count": 19,
   "id": "600b8368-9c4e-4980-b1ff-7401dc9a6be0",
   "metadata": {},
   "outputs": [],
   "source": [
    "# la semana del 8 de julio de 2018\n",
    "semana8 = pd.date_range('7/8/18',periods=7,freq='D')"
   ]
  },
  {
   "cell_type": "code",
   "execution_count": 20,
   "id": "49760b3e-4452-41fa-8e2f-51620642f392",
   "metadata": {},
   "outputs": [
    {
     "data": {
      "text/plain": [
       "DatetimeIndex(['2018-07-08', '2018-07-09', '2018-07-10', '2018-07-11',\n",
       "               '2018-07-12', '2018-07-13', '2018-07-14'],\n",
       "              dtype='datetime64[ns]', freq='D')"
      ]
     },
     "execution_count": 20,
     "metadata": {},
     "output_type": "execute_result"
    }
   ],
   "source": [
    "semana8"
   ]
  },
  {
   "cell_type": "code",
   "execution_count": 21,
   "id": "6e8bdd8d-3487-4691-9307-2e5d3521e6ee",
   "metadata": {},
   "outputs": [
    {
     "data": {
      "text/plain": [
       "DatetimeIndex(['2001-06-06', '2002-01-15', '2023-01-01'], dtype='datetime64[ns]', freq=None)"
      ]
     },
     "execution_count": 21,
     "metadata": {},
     "output_type": "execute_result"
    }
   ],
   "source": [
    "# de que forma le podemos pasar fechas a pandas\n",
    "pd.to_datetime(['Jun 6,2001','01/15/2002','01-Jan-2023'])"
   ]
  },
  {
   "cell_type": "code",
   "execution_count": 22,
   "id": "6b243811-3c9f-4a81-839a-ad9cd5d3b0ac",
   "metadata": {},
   "outputs": [],
   "source": [
    "algunas_fechas = np.array(['2001-06-06','2002-01-15'],dtype='datetime64')"
   ]
  },
  {
   "cell_type": "code",
   "execution_count": 23,
   "id": "4ef6d76e-700e-4880-933b-f6ad811ff3d5",
   "metadata": {},
   "outputs": [
    {
     "data": {
      "text/plain": [
       "array(['2001-06-06', '2002-01-15'], dtype='datetime64[D]')"
      ]
     },
     "execution_count": 23,
     "metadata": {},
     "output_type": "execute_result"
    }
   ],
   "source": [
    "algunas_fechas"
   ]
  },
  {
   "cell_type": "code",
   "execution_count": 24,
   "id": "3f07adf6-17b3-4742-b73d-522a4fb09050",
   "metadata": {},
   "outputs": [],
   "source": [
    "#las podemos usar en pandas\n",
    "algunas_fechas=pd.to_datetime(algunas_fechas)"
   ]
  },
  {
   "cell_type": "code",
   "execution_count": null,
   "id": "caef7fc0-e48a-4ffb-8073-184ddc713e07",
   "metadata": {},
   "outputs": [],
   "source": [
    "#df.index.freq = 'D'\n",
    "## CHECAR ESTA CELDA\n",
    "algunas_fechas.pd.asfreq('D')"
   ]
  }
 ],
 "metadata": {
  "kernelspec": {
   "display_name": "Python 3 (ipykernel)",
   "language": "python",
   "name": "python3"
  },
  "language_info": {
   "codemirror_mode": {
    "name": "ipython",
    "version": 3
   },
   "file_extension": ".py",
   "mimetype": "text/x-python",
   "name": "python",
   "nbconvert_exporter": "python",
   "pygments_lexer": "ipython3",
   "version": "3.9.13"
  }
 },
 "nbformat": 4,
 "nbformat_minor": 5
}
