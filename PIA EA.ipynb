{
 "cells": [
  {
   "cell_type": "markdown",
   "id": "00430699-527b-45d5-8c0f-37a207cccd6e",
   "metadata": {},
   "source": [
    "# PRODUCTO INTEGRADOR DE APRENDIZAJE\n",
    "## Andrea Carolina López Ruiz\n",
    "## José Alfonso González Acosta\n",
    "## Leoplodo Hernandez Salazar \n",
    "### Estadística Aplicada Gpo 043\n",
    "#### FCFM - Universidad Autónoma de Nuevo León\n",
    "- 14 de mayo de 2023"
   ]
  },
  {
   "cell_type": "code",
   "execution_count": 1,
   "id": "28d8b5e9-ff24-4690-bd1a-d6bc4dc4b62a",
   "metadata": {},
   "outputs": [],
   "source": [
    "import pandas as pd\n",
    "import numpy as np\n",
    "import matplotlib.pyplot as plt\n",
    "%matplotlib inline"
   ]
  },
  {
   "cell_type": "code",
   "execution_count": 2,
   "id": "be836698-2d62-445e-b65c-699ca69a5e65",
   "metadata": {},
   "outputs": [],
   "source": [
    "from statsmodels.graphics.tsaplots import plot_acf\n",
    "from statsmodels.graphics.tsaplots import plot_pacf\n",
    "from statsmodels.tsa.stattools import adfuller\n",
    "\n",
    "from statsmodels.tsa.arima.model import ARIMA"
   ]
  },
  {
   "cell_type": "code",
   "execution_count": 3,
   "id": "2651ac27-e480-4e10-bfd1-d2daa65cab0a",
   "metadata": {},
   "outputs": [],
   "source": [
    "pas_met = pd.read_csv('metrorrey.csv')"
   ]
  },
  {
   "cell_type": "code",
   "execution_count": 4,
   "id": "b82df3b3-6655-4f36-9bad-338c00ec2896",
   "metadata": {},
   "outputs": [
    {
     "data": {
      "text/html": [
       "<div>\n",
       "<style scoped>\n",
       "    .dataframe tbody tr th:only-of-type {\n",
       "        vertical-align: middle;\n",
       "    }\n",
       "\n",
       "    .dataframe tbody tr th {\n",
       "        vertical-align: top;\n",
       "    }\n",
       "\n",
       "    .dataframe thead th {\n",
       "        text-align: right;\n",
       "    }\n",
       "</style>\n",
       "<table border=\"1\" class=\"dataframe\">\n",
       "  <thead>\n",
       "    <tr style=\"text-align: right;\">\n",
       "      <th></th>\n",
       "      <th>Mes</th>\n",
       "      <th>Pasajeros</th>\n",
       "      <th>Ingresos</th>\n",
       "    </tr>\n",
       "  </thead>\n",
       "  <tbody>\n",
       "    <tr>\n",
       "      <th>0</th>\n",
       "      <td>2008/01</td>\n",
       "      <td>5869.000</td>\n",
       "      <td>16979.000</td>\n",
       "    </tr>\n",
       "    <tr>\n",
       "      <th>1</th>\n",
       "      <td>2008/02</td>\n",
       "      <td>6499.000</td>\n",
       "      <td>18516.000</td>\n",
       "    </tr>\n",
       "    <tr>\n",
       "      <th>2</th>\n",
       "      <td>2008/03</td>\n",
       "      <td>5801.000</td>\n",
       "      <td>16719.000</td>\n",
       "    </tr>\n",
       "    <tr>\n",
       "      <th>3</th>\n",
       "      <td>2008/04</td>\n",
       "      <td>6932.000</td>\n",
       "      <td>17663.000</td>\n",
       "    </tr>\n",
       "    <tr>\n",
       "      <th>4</th>\n",
       "      <td>2008/05</td>\n",
       "      <td>6876.000</td>\n",
       "      <td>21079.000</td>\n",
       "    </tr>\n",
       "    <tr>\n",
       "      <th>...</th>\n",
       "      <td>...</td>\n",
       "      <td>...</td>\n",
       "      <td>...</td>\n",
       "    </tr>\n",
       "    <tr>\n",
       "      <th>176</th>\n",
       "      <td>2022/09</td>\n",
       "      <td>13244.858</td>\n",
       "      <td>45671.599</td>\n",
       "    </tr>\n",
       "    <tr>\n",
       "      <th>177</th>\n",
       "      <td>2022/10</td>\n",
       "      <td>14135.829</td>\n",
       "      <td>47422.015</td>\n",
       "    </tr>\n",
       "    <tr>\n",
       "      <th>178</th>\n",
       "      <td>2022/11</td>\n",
       "      <td>13657.740</td>\n",
       "      <td>44794.633</td>\n",
       "    </tr>\n",
       "    <tr>\n",
       "      <th>179</th>\n",
       "      <td>2022/12</td>\n",
       "      <td>10665.017</td>\n",
       "      <td>41252.317</td>\n",
       "    </tr>\n",
       "    <tr>\n",
       "      <th>180</th>\n",
       "      <td>2023/01</td>\n",
       "      <td>9975.773</td>\n",
       "      <td>39608.939</td>\n",
       "    </tr>\n",
       "  </tbody>\n",
       "</table>\n",
       "<p>181 rows × 3 columns</p>\n",
       "</div>"
      ],
      "text/plain": [
       "         Mes  Pasajeros   Ingresos\n",
       "0    2008/01   5869.000  16979.000\n",
       "1    2008/02   6499.000  18516.000\n",
       "2    2008/03   5801.000  16719.000\n",
       "3    2008/04   6932.000  17663.000\n",
       "4    2008/05   6876.000  21079.000\n",
       "..       ...        ...        ...\n",
       "176  2022/09  13244.858  45671.599\n",
       "177  2022/10  14135.829  47422.015\n",
       "178  2022/11  13657.740  44794.633\n",
       "179  2022/12  10665.017  41252.317\n",
       "180  2023/01   9975.773  39608.939\n",
       "\n",
       "[181 rows x 3 columns]"
      ]
     },
     "execution_count": 4,
     "metadata": {},
     "output_type": "execute_result"
    }
   ],
   "source": [
    "pas_met"
   ]
  }
 ],
 "metadata": {
  "kernelspec": {
   "display_name": "Python 3 (ipykernel)",
   "language": "python",
   "name": "python3"
  },
  "language_info": {
   "codemirror_mode": {
    "name": "ipython",
    "version": 3
   },
   "file_extension": ".py",
   "mimetype": "text/x-python",
   "name": "python",
   "nbconvert_exporter": "python",
   "pygments_lexer": "ipython3",
   "version": "3.9.13"
  }
 },
 "nbformat": 4,
 "nbformat_minor": 5
}
