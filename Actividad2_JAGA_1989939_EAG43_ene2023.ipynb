{
 "cells": [
  {
   "cell_type": "markdown",
   "id": "7bd7cabd-8a71-40a7-ae01-c352676f6e72",
   "metadata": {},
   "source": [
    "# Actividad 2 #\n",
    "**Jose Alfonso Gonzalez Acosta**\n",
    "- Matricula: 1989939\n",
    "- Materia: Estadistica Aplicada\n",
    "- Grupo: 043"
   ]
  },
  {
   "cell_type": "markdown",
   "id": "ce4d884c-71d5-4c1d-a6c9-42809784258a",
   "metadata": {},
   "source": [
    "1.   Contamos con la edad de las personas de San Andres, un pueblito de la sierra de Nuevo León, que cuenta con 50 habitantes en total. Genera una lista con la edad de los 50 habitantes de San Andres. La lista debe llamarse \"edades_pueblito\"."
   ]
  },
  {
   "cell_type": "code",
   "execution_count": 8,
   "id": "6b2e4190-8309-40b4-b3a4-0cb41841dbef",
   "metadata": {},
   "outputs": [],
   "source": [
    "edades_pueblito = [23, 80, 99, 66, 87, 31, 61, 21, 54, 76, 78, 17, 14, 26, 100, 34, 1, 70, 5, 31, 51, 39, 47, 81, 69, 45, 40, 8, 44, 60, 77, 93, 22, 91, 4, 37, 87, 34, 98, 29, 7, 63, 11, 91, 86, 20, 33, 90, 72, 61]"
   ]
  },
  {
   "cell_type": "code",
   "execution_count": 9,
   "id": "0a8efd2e-a577-481e-9078-517053ba638b",
   "metadata": {},
   "outputs": [
    {
     "data": {
      "text/plain": [
       "[23,\n",
       " 80,\n",
       " 99,\n",
       " 66,\n",
       " 87,\n",
       " 31,\n",
       " 61,\n",
       " 21,\n",
       " 54,\n",
       " 76,\n",
       " 78,\n",
       " 17,\n",
       " 14,\n",
       " 26,\n",
       " 100,\n",
       " 34,\n",
       " 1,\n",
       " 70,\n",
       " 5,\n",
       " 31,\n",
       " 51,\n",
       " 39,\n",
       " 47,\n",
       " 81,\n",
       " 69,\n",
       " 45,\n",
       " 40,\n",
       " 8,\n",
       " 44,\n",
       " 60,\n",
       " 77,\n",
       " 93,\n",
       " 22,\n",
       " 91,\n",
       " 4,\n",
       " 37,\n",
       " 87,\n",
       " 34,\n",
       " 98,\n",
       " 29,\n",
       " 7,\n",
       " 63,\n",
       " 11,\n",
       " 91,\n",
       " 86,\n",
       " 20,\n",
       " 33,\n",
       " 90,\n",
       " 72,\n",
       " 61]"
      ]
     },
     "execution_count": 9,
     "metadata": {},
     "output_type": "execute_result"
    }
   ],
   "source": [
    "edades_pueblito"
   ]
  },
  {
   "cell_type": "code",
   "execution_count": 10,
   "id": "54ebac99-4281-455b-8096-70ba144965ee",
   "metadata": {},
   "outputs": [
    {
     "data": {
      "text/plain": [
       "list"
      ]
     },
     "execution_count": 10,
     "metadata": {},
     "output_type": "execute_result"
    }
   ],
   "source": [
    "type(edades_pueblito)"
   ]
  },
  {
   "cell_type": "markdown",
   "id": "d9bc7658-dda1-4ea6-ab89-f9aef31fab48",
   "metadata": {},
   "source": [
    "2. Importa la librería de numpy con su apodo, y luego convierte la lista edades_pueblito en un arreglo."
   ]
  },
  {
   "cell_type": "code",
   "execution_count": 11,
   "id": "1ee17f10-c52a-4202-9e46-b7d4151d3007",
   "metadata": {},
   "outputs": [],
   "source": [
    "import numpy as np"
   ]
  },
  {
   "cell_type": "code",
   "execution_count": 12,
   "id": "3f54ea74-7a7e-409a-b3fb-e840a1df72ec",
   "metadata": {},
   "outputs": [
    {
     "data": {
      "text/plain": [
       "array([ 23,  80,  99,  66,  87,  31,  61,  21,  54,  76,  78,  17,  14,\n",
       "        26, 100,  34,   1,  70,   5,  31,  51,  39,  47,  81,  69,  45,\n",
       "        40,   8,  44,  60,  77,  93,  22,  91,   4,  37,  87,  34,  98,\n",
       "        29,   7,  63,  11,  91,  86,  20,  33,  90,  72,  61])"
      ]
     },
     "execution_count": 12,
     "metadata": {},
     "output_type": "execute_result"
    }
   ],
   "source": [
    "np.array(edades_pueblito)"
   ]
  },
  {
   "cell_type": "markdown",
   "id": "01a4131b-74e6-4008-b46e-6511492a7e1c",
   "metadata": {},
   "source": [
    "3. Calcula la media, la varianza, y la desviación estándar de la edad de los habitantes de San Andres, muestra un texto (print) con los cálculos realizados."
   ]
  },
  {
   "cell_type": "code",
   "execution_count": 13,
   "id": "86833bff-0210-4340-9429-fed4e6c1e923",
   "metadata": {},
   "outputs": [
    {
     "name": "stdout",
     "output_type": "stream",
     "text": [
      "51.28 887.2416000000001 29.78660101455015\n"
     ]
    }
   ],
   "source": [
    "mean = np.mean(edades_pueblito)\n",
    "var = np.var(edades_pueblito)\n",
    "std = np.std(edades_pueblito)\n",
    "print(mean,var,std)"
   ]
  },
  {
   "cell_type": "markdown",
   "id": "aafa7b85-67f0-49d5-a5df-40e7cb5b8675",
   "metadata": {},
   "source": [
    "4. Sin utilizar la formula de la media de numpy, es decir, sin utilizar np.mean(), como podriamos calcular la media utlizando solo las funciones que hemos visto en clase."
   ]
  },
  {
   "cell_type": "code",
   "execution_count": 14,
   "id": "3fdb5c9f-2191-4ded-b358-816bf4822a88",
   "metadata": {},
   "outputs": [
    {
     "name": "stdout",
     "output_type": "stream",
     "text": [
      "51.28\n"
     ]
    }
   ],
   "source": [
    "suma = np.sum(edades_pueblito)\n",
    "prom = suma/50\n",
    "print(prom)"
   ]
  },
  {
   "cell_type": "markdown",
   "id": "c5c69daa-ff95-431c-b7ee-26eae30fb696",
   "metadata": {},
   "source": [
    "5. Selecciona una muestra de las edades de las primeras 20 personas del pueblo de San Andres, guardalo en un objeto llamado muestra_pueblito."
   ]
  },
  {
   "cell_type": "code",
   "execution_count": 15,
   "id": "b76566d9-e518-404c-92ab-4175bb7d3180",
   "metadata": {},
   "outputs": [],
   "source": [
    "muestra_pueblito = edades_pueblito[0:20]"
   ]
  },
  {
   "cell_type": "code",
   "execution_count": 16,
   "id": "6a2b3b7e-d43f-4de4-a538-3b231b41dd0e",
   "metadata": {},
   "outputs": [
    {
     "data": {
      "text/plain": [
       "[23, 80, 99, 66, 87, 31, 61, 21, 54, 76, 78, 17, 14, 26, 100, 34, 1, 70, 5, 31]"
      ]
     },
     "execution_count": 16,
     "metadata": {},
     "output_type": "execute_result"
    }
   ],
   "source": [
    "muestra_pueblito"
   ]
  },
  {
   "cell_type": "markdown",
   "id": "82391b98-26a8-4cbe-8ed9-1fc533bf4695",
   "metadata": {},
   "source": [
    "6. Calcula la media, la varianza y la desviación estándar de la muestra de las edades del pueblo de San Andres, muestra un texto (print) con los calculos realizados."
   ]
  },
  {
   "cell_type": "code",
   "execution_count": 18,
   "id": "e3350a48-6e3b-4bd4-8bcc-a33a3803b784",
   "metadata": {},
   "outputs": [
    {
     "name": "stdout",
     "output_type": "stream",
     "text": [
      "48.7 966.2099999999998 31.08391867187919\n"
     ]
    }
   ],
   "source": [
    "meanm = np.mean(muestra_pueblito)\n",
    "varm = np.var(muestra_pueblito)\n",
    "stdm = np.std(muestra_pueblito)\n",
    "print(meanm,varm,stdm)"
   ]
  },
  {
   "cell_type": "markdown",
   "id": "27500857-0739-4677-b6c6-c895a9f627ff",
   "metadata": {},
   "source": [
    "7. Sabemos que en San Andres se dedican a la producción de huevo de gallina. Existen 20 productores de huevo en San Andres, donde en promedio cada uno produce 5.6785 kg de huevo por día. ¿cuál es la producción de huevo en kg por mes en San Andres?"
   ]
  },
  {
   "cell_type": "code",
   "execution_count": 15,
   "id": "5662ae43-6cee-4cb2-b8c7-5949886221d8",
   "metadata": {},
   "outputs": [
    {
     "data": {
      "text/plain": [
       "3407.1"
      ]
     },
     "execution_count": 15,
     "metadata": {},
     "output_type": "execute_result"
    }
   ],
   "source": [
    "produccion=np.array([20,5.6785,30])\n",
    "np.prod(produccion)"
   ]
  },
  {
   "cell_type": "markdown",
   "id": "14979210-cac1-4def-b731-b7e6da0a0beb",
   "metadata": {},
   "source": [
    "8. Resuelve el ejercicio 7 sin usar np.prod(). Resuelva utilizando tres objetos: \"productores\" que contenga el número de productores, \"huevos_promedio_x_dia\" que contenga la producción promedio de kg de huevo al día por productor y \"días del mes\" que contega el número de días en un mes."
   ]
  },
  {
   "cell_type": "code",
   "execution_count": 16,
   "id": "c2d3dc26-61ff-45cc-888d-a58d999b5a2f",
   "metadata": {},
   "outputs": [
    {
     "name": "stdout",
     "output_type": "stream",
     "text": [
      "3407.1\n"
     ]
    }
   ],
   "source": [
    "productores=20\n",
    "huevos_promxdia=5.6785\n",
    "dias_mes=30\n",
    "produccion=productores*huevos_promxdia*dias_mes\n",
    "print(produccion)"
   ]
  }
 ],
 "metadata": {
  "kernelspec": {
   "display_name": "Python 3 (ipykernel)",
   "language": "python",
   "name": "python3"
  },
  "language_info": {
   "codemirror_mode": {
    "name": "ipython",
    "version": 3
   },
   "file_extension": ".py",
   "mimetype": "text/x-python",
   "name": "python",
   "nbconvert_exporter": "python",
   "pygments_lexer": "ipython3",
   "version": "3.9.12"
  }
 },
 "nbformat": 4,
 "nbformat_minor": 5
}
